{
 "cells": [
  {
   "cell_type": "markdown",
   "id": "f8e7a64f",
   "metadata": {},
   "source": [
    "# Chapter 17 in chapter exercises"
   ]
  },
  {
   "cell_type": "code",
   "execution_count": 1,
   "id": "d664dc40",
   "metadata": {},
   "outputs": [],
   "source": [
    "# import libraries\n",
    "import numpy as np\n",
    "import scipy.stats as stats\n",
    "import pandas as pd\n",
    "import matplotlib.pyplot as plt\n",
    "import statsmodels.stats.power as smp"
   ]
  },
  {
   "cell_type": "code",
   "execution_count": 2,
   "id": "58ec926c",
   "metadata": {},
   "outputs": [],
   "source": [
    "# define global figure properties \n",
    "import matplotlib_inline.backend_inline\n",
    "matplotlib_inline.backend_inline.set_matplotlib_formats('svg') # display figures in vector format\n",
    "plt.rcParams.update({'font.size':14,             # font size\n",
    "                     'axes.titlelocation':'left',# title location\n",
    "                     'axes.spines.right':False,  # remove axis bounding box\n",
    "                     'axes.spines.top':False,    # remove axis bounding box\n",
    "                     })\n",
    "     "
   ]
  },
  {
   "cell_type": "markdown",
   "id": "d3dd626d",
   "metadata": {},
   "source": [
    "### Power for a one-sample t-test"
   ]
  },
  {
   "cell_type": "code",
   "execution_count": 3,
   "id": "79f5e671",
   "metadata": {},
   "outputs": [
    {
     "name": "stdout",
     "output_type": "stream",
     "text": [
      "t = 3.240\n",
      "shifted tau-left = 1.221\n",
      "shifted tau-right = 5.260\n",
      "\n",
      "Statistical power: 0.8854\n"
     ]
    }
   ],
   "source": [
    "# parameters\n",
    "xBar = 1\n",
    "h0   = 0\n",
    "std  = 2\n",
    "n    = 42 # sample size\n",
    "alpha = .05  # significance level\n",
    "\n",
    "# Compute the non-centrality parameter\n",
    "tee = (xBar-h0) / (std/np.sqrt(n))\n",
    "\n",
    "\n",
    "# Critical t-values (2-tailed)\n",
    "df = n - 1  # df for one-sample t-test\n",
    "t_critL = stats.t.ppf(alpha/2, df) \n",
    "t_critR = stats.t.ppf(1-alpha/2, df)\n",
    "\n",
    "# two one-sided power areas\n",
    "powerL = stats.t.cdf(t_critL+tee, df) # note shiting the distribution\n",
    "powerR = 1 - stats.t.cdf(t_critR+tee, df)\n",
    "\n",
    "# can also use the loc input:\n",
    "#powerL = stats.t.cdf(t_critL, df, loc=delta)\n",
    "\n",
    "# total power\n",
    "totalPower = powerL + powerR\n",
    "\n",
    "# and report\n",
    "print(f't = {tee:.3f}')\n",
    "print(f'shifted tau-left = {t_critL+tee:.3f}')\n",
    "print(f'shifted tau-right = {t_critR+tee:.3f}')\n",
    "print('')\n",
    "print(f'Statistical power: {totalPower:.4f}')"
   ]
  },
  {
   "cell_type": "code",
   "execution_count": null,
   "id": "2c3a4cf4",
   "metadata": {},
   "outputs": [],
   "source": []
  }
 ],
 "metadata": {
  "kernelspec": {
   "display_name": "svenv",
   "language": "python",
   "name": "python3"
  },
  "language_info": {
   "codemirror_mode": {
    "name": "ipython",
    "version": 3
   },
   "file_extension": ".py",
   "mimetype": "text/x-python",
   "name": "python",
   "nbconvert_exporter": "python",
   "pygments_lexer": "ipython3",
   "version": "3.8.10"
  }
 },
 "nbformat": 4,
 "nbformat_minor": 5
}
