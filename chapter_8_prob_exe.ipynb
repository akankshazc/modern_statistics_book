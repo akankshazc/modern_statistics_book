{
 "cells": [
  {
   "cell_type": "code",
   "execution_count": 1,
   "id": "69059a82",
   "metadata": {},
   "outputs": [],
   "source": [
    "# import libraries \n",
    "import numpy as np\n",
    "import scipy.stats as stats\n",
    "import matplotlib.pyplot as plt\n",
    "\n",
    "# define global figure properties \n",
    "import matplotlib_inline.backend_inline\n",
    "matplotlib_inline.backend_inline.set_matplotlib_formats('svg') # display figures in vector format\n",
    "plt.rcParams.update({'font.size':14,             # font size\n",
    "                     'axes.titlelocation':'left',# title location\n",
    "                     'axes.spines.right':False,  # remove axis bounding box\n",
    "                     'axes.spines.top':False,    # remove axis bounding box\n",
    "                     })\n",
    "     "
   ]
  },
  {
   "cell_type": "markdown",
   "id": "6a9bc18b",
   "metadata": {},
   "source": [
    "# Exe 1"
   ]
  },
  {
   "cell_type": "code",
   "execution_count": 2,
   "id": "185ef2be",
   "metadata": {},
   "outputs": [
    {
     "name": "stdout",
     "output_type": "stream",
     "text": [
      "Sum over pdf: 49.872\n",
      "Sum over normalized pdf: 1.000\n"
     ]
    }
   ],
   "source": [
    "x4 = np.linspace(-4,4,400)\n",
    "pdf4 = stats.norm.pdf(x4)\n",
    "\n",
    "# normalize by dx\n",
    "pdf4N = pdf4*(x4[1]-x4[0])\n",
    "\n",
    "# print sums\n",
    "print(f'Sum over pdf: {np.sum(pdf4):.3f}')\n",
    "print(f'Sum over normalized pdf: {np.sum(pdf4N):.3f}')"
   ]
  },
  {
   "cell_type": "code",
   "execution_count": null,
   "id": "db948c91",
   "metadata": {},
   "outputs": [],
   "source": []
  }
 ],
 "metadata": {
  "kernelspec": {
   "display_name": "svenv",
   "language": "python",
   "name": "python3"
  },
  "language_info": {
   "codemirror_mode": {
    "name": "ipython",
    "version": 3
   },
   "file_extension": ".py",
   "mimetype": "text/x-python",
   "name": "python",
   "nbconvert_exporter": "python",
   "pygments_lexer": "ipython3",
   "version": "3.8.10"
  }
 },
 "nbformat": 4,
 "nbformat_minor": 5
}
