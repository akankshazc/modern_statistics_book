{
 "cells": [
  {
   "cell_type": "code",
   "execution_count": 1,
   "id": "050c16aa",
   "metadata": {},
   "outputs": [],
   "source": [
    "# import libraries \n",
    "import numpy as np\n",
    "import scipy.stats as stats\n",
    "import matplotlib.pyplot as plt\n",
    "import pandas as pd\n",
    "import seaborn as sns\n",
    "\n",
    "# define global figure properties \n",
    "import matplotlib_inline.backend_inline\n",
    "matplotlib_inline.backend_inline.set_matplotlib_formats('svg') # display figures in vector format\n",
    "plt.rcParams.update({'font.size':14,             # font size\n",
    "                     'axes.titlelocation':'left',# title location\n",
    "                     'axes.spines.right':False,  # remove axis bounding box\n",
    "                     'axes.spines.top':False,    # remove axis bounding box\n",
    "                     })"
   ]
  },
  {
   "cell_type": "markdown",
   "id": "adc05739",
   "metadata": {},
   "source": [
    "# Exe 1"
   ]
  },
  {
   "cell_type": "code",
   "execution_count": 2,
   "id": "f9d749ec",
   "metadata": {},
   "outputs": [
    {
     "name": "stdout",
     "output_type": "stream",
     "text": [
      "r from np.corr: 0.566\n",
      "r from np.dot : 0.566\n"
     ]
    }
   ],
   "source": [
    "# two random correlated variables\n",
    "v = np.random.randn(10)\n",
    "w = v + np.random.randn(len(v))\n",
    "\n",
    "# correlation using mean-centered dot products\n",
    "\n",
    "# mean-center\n",
    "vm = v-np.mean(v)\n",
    "wm = w-np.mean(w)\n",
    "\n",
    "# dot products\n",
    "r_me = np.dot(vm,wm) / np.sqrt(np.dot(vm,vm)*np.dot(wm,wm))\n",
    "\n",
    "\n",
    "# correlation using numpy\n",
    "r_np = np.corrcoef(v,w)[0,1]\n",
    "\n",
    "\n",
    "# print results\n",
    "print(f'r from np.corr: {r_np:.3f}')\n",
    "print(f'r from np.dot : {r_me:.3f}')"
   ]
  },
  {
   "cell_type": "code",
   "execution_count": null,
   "id": "b28be2fa",
   "metadata": {},
   "outputs": [],
   "source": []
  }
 ],
 "metadata": {
  "kernelspec": {
   "display_name": "svenv",
   "language": "python",
   "name": "python3"
  },
  "language_info": {
   "codemirror_mode": {
    "name": "ipython",
    "version": 3
   },
   "file_extension": ".py",
   "mimetype": "text/x-python",
   "name": "python",
   "nbconvert_exporter": "python",
   "pygments_lexer": "ipython3",
   "version": "3.8.10"
  }
 },
 "nbformat": 4,
 "nbformat_minor": 5
}
