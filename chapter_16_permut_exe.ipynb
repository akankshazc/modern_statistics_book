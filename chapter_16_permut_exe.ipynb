{
 "cells": [
  {
   "cell_type": "code",
   "execution_count": 1,
   "id": "ce1d5f32",
   "metadata": {},
   "outputs": [],
   "source": [
    "# import necessary libraries\n",
    "import numpy as np\n",
    "import scipy.stats as stats\n",
    "import matplotlib.pyplot as plt"
   ]
  },
  {
   "cell_type": "code",
   "execution_count": 2,
   "id": "bbdc6ec2",
   "metadata": {},
   "outputs": [],
   "source": [
    "# define global figure properties \n",
    "import matplotlib_inline.backend_inline\n",
    "matplotlib_inline.backend_inline.set_matplotlib_formats('svg') # display figures in vector format\n",
    "plt.rcParams.update({'font.size':14,             # font size\n",
    "                     'axes.titlelocation':'left',# title location\n",
    "                     'axes.spines.right':False,  # remove axis bounding box\n",
    "                     'axes.spines.top':False,    # remove axis bounding box\n",
    "                     })"
   ]
  },
  {
   "cell_type": "markdown",
   "id": "4dd8cab7",
   "metadata": {},
   "source": [
    "# Exe 1"
   ]
  },
  {
   "cell_type": "code",
   "execution_count": 7,
   "id": "9101c26c",
   "metadata": {},
   "outputs": [],
   "source": [
    "# simulation parameters\n",
    "N = 55\n",
    "nIterations = 1000"
   ]
  },
  {
   "cell_type": "code",
   "execution_count": 8,
   "id": "3fb3b0e0",
   "metadata": {},
   "outputs": [],
   "source": [
    "# the data and its mean\n",
    "theData = np.random.normal(loc=0,scale=1,size=N)**2 - 1\n",
    "theMean = np.mean(theData)"
   ]
  },
  {
   "cell_type": "code",
   "execution_count": 9,
   "id": "f43f9cb9",
   "metadata": {},
   "outputs": [],
   "source": [
    "# one permutation test\n",
    "permMeans = np.zeros(nIterations)\n",
    "for permi in range(nIterations):\n",
    "\n",
    "  # the data with random sign flips\n",
    "  signFlippedData = np.sign(np.random.randn(N))*theData\n",
    "\n",
    "  # and its mean\n",
    "  permMeans[permi] = np.mean( signFlippedData )"
   ]
  },
  {
   "cell_type": "code",
   "execution_count": 10,
   "id": "e2416bdd",
   "metadata": {},
   "outputs": [],
   "source": [
    "# zscore relative to H0 distribution\n",
    "zVal = (theMean-np.mean(permMeans)) / np.std(permMeans,ddof=1)\n",
    "pVal = (1-stats.norm.cdf(np.abs(zVal)))*2     \n"
   ]
  },
  {
   "cell_type": "code",
   "execution_count": 11,
   "id": "80f411e2",
   "metadata": {},
   "outputs": [
    {
     "name": "stdout",
     "output_type": "stream",
     "text": [
      "z = 1.07, p = 0.284\n"
     ]
    }
   ],
   "source": [
    "# print the z/p values\n",
    "print(f'z = {zVal:.2f}, p = {pVal:.3f}')\n"
   ]
  },
  {
   "cell_type": "code",
   "execution_count": null,
   "id": "3d63d761",
   "metadata": {},
   "outputs": [],
   "source": []
  }
 ],
 "metadata": {
  "kernelspec": {
   "display_name": "svenv",
   "language": "python",
   "name": "python3"
  },
  "language_info": {
   "codemirror_mode": {
    "name": "ipython",
    "version": 3
   },
   "file_extension": ".py",
   "mimetype": "text/x-python",
   "name": "python",
   "nbconvert_exporter": "python",
   "pygments_lexer": "ipython3",
   "version": "3.8.10"
  }
 },
 "nbformat": 4,
 "nbformat_minor": 5
}
