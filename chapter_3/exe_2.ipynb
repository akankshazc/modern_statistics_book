{
 "cells": [
  {
   "cell_type": "code",
   "execution_count": 31,
   "metadata": {},
   "outputs": [],
   "source": [
    "import pandas as pd\n",
    "import numpy as np\n",
    "import matplotlib.pyplot as plt\n"
   ]
  },
  {
   "cell_type": "code",
   "execution_count": 24,
   "metadata": {},
   "outputs": [
    {
     "data": {
      "text/plain": [
       "[1, 2, 3, 4, 5, 6]"
      ]
     },
     "execution_count": 24,
     "metadata": {},
     "output_type": "execute_result"
    }
   ],
   "source": [
    "# List of Columns\n",
    "\n",
    "cols = [x for x in range(1,7)]\n",
    "cols"
   ]
  },
  {
   "cell_type": "code",
   "execution_count": 25,
   "metadata": {},
   "outputs": [
    {
     "data": {
      "text/plain": [
       "[4, 9, 16, 25, 36, 49]"
      ]
     },
     "execution_count": 25,
     "metadata": {},
     "output_type": "execute_result"
    }
   ],
   "source": [
    "# Corresponding means\n",
    "\n",
    "means = [(x + 1) **2 for x in cols]\n",
    "means"
   ]
  },
  {
   "cell_type": "code",
   "execution_count": 26,
   "metadata": {},
   "outputs": [
    {
     "data": {
      "text/plain": [
       "[10.799999999999999,\n",
       " 1.1999999999999993,\n",
       " 1.1999999999999993,\n",
       " 10.800000000000002,\n",
       " 30.0,\n",
       " 58.79999999999999]"
      ]
     },
     "execution_count": 26,
     "metadata": {},
     "output_type": "execute_result"
    }
   ],
   "source": [
    "# Corresponding standard deviations\n",
    "\n",
    "stds = [30*((2*x / 5) - 1)**2 for x in cols]\n",
    "stds"
   ]
  },
  {
   "cell_type": "code",
   "execution_count": 27,
   "metadata": {},
   "outputs": [
    {
     "data": {
      "text/html": [
       "<div>\n",
       "<style scoped>\n",
       "    .dataframe tbody tr th:only-of-type {\n",
       "        vertical-align: middle;\n",
       "    }\n",
       "\n",
       "    .dataframe tbody tr th {\n",
       "        vertical-align: top;\n",
       "    }\n",
       "\n",
       "    .dataframe thead th {\n",
       "        text-align: right;\n",
       "    }\n",
       "</style>\n",
       "<table border=\"1\" class=\"dataframe\">\n",
       "  <thead>\n",
       "    <tr style=\"text-align: right;\">\n",
       "      <th></th>\n",
       "    </tr>\n",
       "  </thead>\n",
       "  <tbody>\n",
       "  </tbody>\n",
       "</table>\n",
       "</div>"
      ],
      "text/plain": [
       "Empty DataFrame\n",
       "Columns: []\n",
       "Index: []"
      ]
     },
     "execution_count": 27,
     "metadata": {},
     "output_type": "execute_result"
    }
   ],
   "source": [
    "# Empty DataFrame\n",
    "\n",
    "df = pd.DataFrame()\n",
    "df"
   ]
  },
  {
   "cell_type": "code",
   "execution_count": 28,
   "metadata": {},
   "outputs": [],
   "source": [
    "# Adding values to the Dataframe\n",
    "\n",
    "for i in range(0,6):\n",
    "    df[cols[i]] = np.random.normal(means[i], stds[i], 30)"
   ]
  },
  {
   "cell_type": "code",
   "execution_count": 29,
   "metadata": {},
   "outputs": [
    {
     "data": {
      "text/html": [
       "<div>\n",
       "<style scoped>\n",
       "    .dataframe tbody tr th:only-of-type {\n",
       "        vertical-align: middle;\n",
       "    }\n",
       "\n",
       "    .dataframe tbody tr th {\n",
       "        vertical-align: top;\n",
       "    }\n",
       "\n",
       "    .dataframe thead th {\n",
       "        text-align: right;\n",
       "    }\n",
       "</style>\n",
       "<table border=\"1\" class=\"dataframe\">\n",
       "  <thead>\n",
       "    <tr style=\"text-align: right;\">\n",
       "      <th></th>\n",
       "      <th>1</th>\n",
       "      <th>2</th>\n",
       "      <th>3</th>\n",
       "      <th>4</th>\n",
       "      <th>5</th>\n",
       "      <th>6</th>\n",
       "    </tr>\n",
       "  </thead>\n",
       "  <tbody>\n",
       "    <tr>\n",
       "      <th>0</th>\n",
       "      <td>0.818108</td>\n",
       "      <td>9.041411</td>\n",
       "      <td>15.602973</td>\n",
       "      <td>24.262886</td>\n",
       "      <td>26.364271</td>\n",
       "      <td>162.327391</td>\n",
       "    </tr>\n",
       "    <tr>\n",
       "      <th>1</th>\n",
       "      <td>-25.037209</td>\n",
       "      <td>6.794454</td>\n",
       "      <td>17.740798</td>\n",
       "      <td>23.080500</td>\n",
       "      <td>29.716110</td>\n",
       "      <td>132.731669</td>\n",
       "    </tr>\n",
       "    <tr>\n",
       "      <th>2</th>\n",
       "      <td>-2.788586</td>\n",
       "      <td>9.313331</td>\n",
       "      <td>17.305388</td>\n",
       "      <td>24.053000</td>\n",
       "      <td>27.224502</td>\n",
       "      <td>44.894357</td>\n",
       "    </tr>\n",
       "    <tr>\n",
       "      <th>3</th>\n",
       "      <td>10.341290</td>\n",
       "      <td>10.351066</td>\n",
       "      <td>15.571946</td>\n",
       "      <td>33.668982</td>\n",
       "      <td>44.352308</td>\n",
       "      <td>-8.203390</td>\n",
       "    </tr>\n",
       "    <tr>\n",
       "      <th>4</th>\n",
       "      <td>-4.086731</td>\n",
       "      <td>8.552755</td>\n",
       "      <td>14.388902</td>\n",
       "      <td>19.410787</td>\n",
       "      <td>89.203788</td>\n",
       "      <td>35.606252</td>\n",
       "    </tr>\n",
       "  </tbody>\n",
       "</table>\n",
       "</div>"
      ],
      "text/plain": [
       "           1          2          3          4          5           6\n",
       "0   0.818108   9.041411  15.602973  24.262886  26.364271  162.327391\n",
       "1 -25.037209   6.794454  17.740798  23.080500  29.716110  132.731669\n",
       "2  -2.788586   9.313331  17.305388  24.053000  27.224502   44.894357\n",
       "3  10.341290  10.351066  15.571946  33.668982  44.352308   -8.203390\n",
       "4  -4.086731   8.552755  14.388902  19.410787  89.203788   35.606252"
      ]
     },
     "execution_count": 29,
     "metadata": {},
     "output_type": "execute_result"
    }
   ],
   "source": [
    "# Checking dataframe\n",
    "\n",
    "df.head()"
   ]
  },
  {
   "cell_type": "code",
   "execution_count": 30,
   "metadata": {},
   "outputs": [
    {
     "data": {
      "text/plain": [
       "Text(0.5, 1.0, 'C) Error bar plot')"
      ]
     },
     "execution_count": 30,
     "metadata": {},
     "output_type": "execute_result"
    },
    {
     "data": {
      "image/png": "[encoded data removed]",
      "text/plain": [
       "<Figure size 1000x300 with 3 Axes>"
      ]
     },
     "metadata": {},
     "output_type": "display_data"
    }
   ],
   "source": [
    "# Plotting\n",
    "\n",
    "# Creating 3 figures in one row\n",
    "fig, ax = plt.subplots(1, 3, figsize=(10,3))\n",
    "\n",
    "# A plot\n",
    "ax[0].bar(x=cols, height=[df[col].mean() for col in cols])\n",
    "ax[0].set_title('A) Bar Plot')\n",
    "\n",
    "# B plot\n",
    "ax[1].errorbar(x=cols, y=[df[col].mean() for col in cols], yerr=stds, marker='.', linestyle='')\n",
    "ax[1].set_title('B) Error Plot')\n",
    "\n",
    "# C plot\n",
    "ax[2].bar(x=cols, height=[df[col].mean() for col in cols])\n",
    "ax[2].errorbar(x=cols, y=[df[col].mean() for col in cols], yerr=stds, marker='.', linestyle='')\n",
    "ax[2].set_title('C) Error bar plot')"
   ]
  },
  {
   "cell_type": "code",
   "execution_count": null,
   "metadata": {},
   "outputs": [],
   "source": []
  }
 ],
 "metadata": {
  "kernelspec": {
   "display_name": "svenv",
   "language": "python",
   "name": "python3"
  },
  "language_info": {
   "codemirror_mode": {
    "name": "ipython",
    "version": 3
   },
   "file_extension": ".py",
   "mimetype": "text/x-python",
   "name": "python",
   "nbconvert_exporter": "python",
   "pygments_lexer": "ipython3",
   "version": "3.8.10"
  }
 },
 "nbformat": 4,
 "nbformat_minor": 2
}
