{
 "cells": [
  {
   "cell_type": "code",
   "execution_count": 2,
   "id": "a142143c",
   "metadata": {},
   "outputs": [],
   "source": [
    "# import libraries \n",
    "import numpy as np\n",
    "import pandas as pd\n",
    "import seaborn as sns\n",
    "import scipy.stats as stats\n",
    "import statsmodels.api as sm\n",
    "import matplotlib.pyplot as plt"
   ]
  },
  {
   "cell_type": "code",
   "execution_count": 3,
   "id": "02a805ce",
   "metadata": {},
   "outputs": [],
   "source": [
    "# define global figure properties \n",
    "import matplotlib_inline.backend_inline\n",
    "matplotlib_inline.backend_inline.set_matplotlib_formats('svg') # display figures in vector format\n",
    "plt.rcParams.update({'font.size':14,             # font size\n",
    "                     'axes.titlelocation':'left',# title location\n",
    "                     'axes.spines.right':False,  # remove axis bounding box\n",
    "                     'axes.spines.top':False,    # remove axis bounding box\n",
    "                     })"
   ]
  },
  {
   "cell_type": "markdown",
   "id": "54c75f59",
   "metadata": {},
   "source": [
    "# Exe 1"
   ]
  },
  {
   "cell_type": "code",
   "execution_count": 8,
   "id": "1ac3379c",
   "metadata": {},
   "outputs": [],
   "source": [
    "# the data \n",
    "icecream  = np.array([ 1, 2, 4, 5, 7 ])\n",
    "happiness = np.array([ 5, 6.5, 6, 8, 9 ])\n"
   ]
  },
  {
   "cell_type": "code",
   "execution_count": 9,
   "id": "56764367",
   "metadata": {},
   "outputs": [],
   "source": [
    "# design matrix\n",
    "X = np.vstack((icecream,np.ones(len(icecream)))).T\n"
   ]
  },
  {
   "cell_type": "code",
   "execution_count": 10,
   "id": "2c7a94b8",
   "metadata": {},
   "outputs": [],
   "source": [
    "# left inverse\n",
    "leftInv = np.linalg.inv(X.T@X)@X.T\n"
   ]
  },
  {
   "cell_type": "code",
   "execution_count": 11,
   "id": "eed1d7b1",
   "metadata": {},
   "outputs": [
    {
     "data": {
      "text/plain": [
       "array([0.60964912, 4.58333333])"
      ]
     },
     "execution_count": 11,
     "metadata": {},
     "output_type": "execute_result"
    }
   ],
   "source": [
    "# regression coefficients\n",
    "betas = leftInv@happiness\n",
    "betas # compare to output of sm.OLS: [0.6096, 4.5833]"
   ]
  },
  {
   "cell_type": "code",
   "execution_count": null,
   "id": "9f188b6e",
   "metadata": {},
   "outputs": [],
   "source": []
  }
 ],
 "metadata": {
  "kernelspec": {
   "display_name": "svenv",
   "language": "python",
   "name": "python3"
  },
  "language_info": {
   "codemirror_mode": {
    "name": "ipython",
    "version": 3
   },
   "file_extension": ".py",
   "mimetype": "text/x-python",
   "name": "python",
   "nbconvert_exporter": "python",
   "pygments_lexer": "ipython3",
   "version": "3.8.10"
  }
 },
 "nbformat": 4,
 "nbformat_minor": 5
}
